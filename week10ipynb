{
  "nbformat": 4,
  "nbformat_minor": 0,
  "metadata": {
    "colab": {
      "provenance": [],
      "authorship_tag": "ABX9TyNRgSFrxUpaSuStV3B1UNiv",
      "include_colab_link": true
    },
    "kernelspec": {
      "name": "python3",
      "display_name": "Python 3"
    },
    "language_info": {
      "name": "python"
    }
  },
  "cells": [
    {
      "cell_type": "markdown",
      "metadata": {
        "id": "view-in-github",
        "colab_type": "text"
      },
      "source": [
        "<a href=\"https://colab.research.google.com/github/srinidhibv1403/1BM23CS339-AI/blob/main/week10ipynb\" target=\"_parent\"><img src=\"https://colab.research.google.com/assets/colab-badge.svg\" alt=\"Open In Colab\"/></a>"
      ]
    },
    {
      "cell_type": "code",
      "execution_count": 3,
      "metadata": {
        "colab": {
          "base_uri": "https://localhost:8080/"
        },
        "id": "NqQ8xkb_KqdY",
        "outputId": "cc4fc0c3-deb7-45f2-b1e4-9f245f6b436d"
      },
      "outputs": [
        {
          "output_type": "stream",
          "name": "stdout",
          "text": [
            "Optimal Value of Root (A): 5\n",
            "Best Path from Root to Leaf: A → B → D → L2\n",
            "\n",
            "Pruned Branches:\n",
            " - L3 (and below)\n",
            " - F (and below)\n",
            "code by Srinidhi B V\n"
          ]
        }
      ],
      "source": [
        "# Alpha-Beta Pruning Implementation (MAX mode root)\n",
        "\n",
        "class Node:\n",
        "    def __init__(self, name, children=None, value=None):\n",
        "        self.name = name\n",
        "        self.children = children or []\n",
        "        self.value = value\n",
        "\n",
        "def alpha_beta(node, depth, alpha, beta, maximizing, path, pruned):\n",
        "    # Base case: leaf node\n",
        "    if not node.children:\n",
        "        return node.value, [node.name]\n",
        "\n",
        "    if maximizing:\n",
        "        max_eval = float('-inf')\n",
        "        best_path = []\n",
        "        for child in node.children:\n",
        "            eval, child_path = alpha_beta(child, depth + 1, alpha, beta, False, path, pruned)\n",
        "            if eval > max_eval:\n",
        "                max_eval = eval\n",
        "                best_path = [node.name] + child_path\n",
        "            alpha = max(alpha, eval)\n",
        "            if beta <= alpha:\n",
        "                # PRUNED\n",
        "                pruned.append(child.name + \" (and below)\")\n",
        "                break\n",
        "        return max_eval, best_path\n",
        "    else:\n",
        "        min_eval = float('inf')\n",
        "        best_path = []\n",
        "        for child in node.children:\n",
        "            eval, child_path = alpha_beta(child, depth + 1, alpha, beta, True, path, pruned)\n",
        "            if eval < min_eval:\n",
        "                min_eval = eval\n",
        "                best_path = [node.name] + child_path\n",
        "            beta = min(beta, eval)\n",
        "            if beta <= alpha:\n",
        "                # PRUNED\n",
        "                pruned.append(child.name + \" (and below)\")\n",
        "                break\n",
        "        return min_eval, best_path\n",
        "\n",
        "\n",
        "# Constructing the tree\n",
        "D = Node(\"D\", [Node(\"L1\", value=3), Node(\"L2\", value=5)])\n",
        "E = Node(\"E\", [Node(\"L3\", value=6), Node(\"L4\", value=9)])\n",
        "F = Node(\"F\", [Node(\"L5\", value=1), Node(\"L6\", value=2)])\n",
        "G = Node(\"G\", [Node(\"L7\", value=0), Node(\"L8\", value=-1)])\n",
        "\n",
        "B = Node(\"B\", [D, E])\n",
        "C = Node(\"C\", [F, G])\n",
        "A = Node(\"A\", [B, C])  # Root node (MAX)\n",
        "\n",
        "# Run Alpha-Beta Search\n",
        "pruned = []\n",
        "value, best_path = alpha_beta(A, 0, float('-inf'), float('inf'), True, [], pruned)\n",
        "\n",
        "print(\"Optimal Value of Root (A):\", value)\n",
        "print(\"Best Path from Root to Leaf:\", \" → \".join(best_path))\n",
        "print(\"\\nPruned Branches:\")\n",
        "for p in pruned:\n",
        "    print(\" -\", p)\n",
        "print(\"code by Srinidhi B V\")"
      ]
    }
  ]
}