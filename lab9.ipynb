{
  "nbformat": 4,
  "nbformat_minor": 0,
  "metadata": {
    "colab": {
      "provenance": [],
      "authorship_tag": "ABX9TyN+5XBelRYvNV1U8gWAklq2",
      "include_colab_link": true
    },
    "kernelspec": {
      "name": "python3",
      "display_name": "Python 3"
    },
    "language_info": {
      "name": "python"
    }
  },
  "cells": [
    {
      "cell_type": "markdown",
      "metadata": {
        "id": "view-in-github",
        "colab_type": "text"
      },
      "source": [
        "<a href=\"https://colab.research.google.com/github/srinidhibv1403/1BM23CS339-AI/blob/main/lab9.ipynb\" target=\"_parent\"><img src=\"https://colab.research.google.com/assets/colab-badge.svg\" alt=\"Open In Colab\"/></a>"
      ]
    },
    {
      "cell_type": "code",
      "execution_count": 1,
      "metadata": {
        "colab": {
          "base_uri": "https://localhost:8080/"
        },
        "id": "NqQ8xkb_KqdY",
        "outputId": "6ec30920-2831-404d-905c-4936b2cf8b9c"
      },
      "outputs": [
        {
          "output_type": "stream",
          "name": "stdout",
          "text": [
            "Domain: [-3, -2, -1, 0, 1, 2, 3, 4, 5]\n",
            "Statement 1: ∀x (is_even(x) → is_positive(x)) = False\n",
            "Statement 2: ∃x (is_even(x) ∧ ¬is_positive(x)) = True\n",
            "code by Srinidhi B V\n"
          ]
        }
      ],
      "source": [
        "from typing import Callable, Any, List\n",
        "\n",
        "# Define logical connectives\n",
        "def AND(p: bool, q: bool) -> bool:\n",
        "    return p and q\n",
        "\n",
        "def OR(p: bool, q: bool) -> bool:\n",
        "    return p or q\n",
        "\n",
        "def NOT(p: bool) -> bool:\n",
        "    return not p\n",
        "\n",
        "def IMPLIES(p: bool, q: bool) -> bool:\n",
        "    return (not p) or q\n",
        "\n",
        "\n",
        "# Quantifiers\n",
        "def FORALL(domain: List[Any], predicate: Callable[[Any], bool]) -> bool:\n",
        "    \"\"\"Universal quantifier: True if predicate(x) holds for all x in domain\"\"\"\n",
        "    return all(predicate(x) for x in domain)\n",
        "\n",
        "def EXISTS(domain: List[Any], predicate: Callable[[Any], bool]) -> bool:\n",
        "    \"\"\"Existential quantifier: True if predicate(x) holds for some x in domain\"\"\"\n",
        "    return any(predicate(x) for x in domain)\n",
        "\n",
        "\n",
        "# Example predicates\n",
        "def is_even(x: int) -> bool:\n",
        "    return x % 2 == 0\n",
        "\n",
        "def is_positive(x: int) -> bool:\n",
        "    return x > 0\n",
        "\n",
        "\n",
        "# Example FOL statements\n",
        "if __name__ == \"__main__\":\n",
        "    domain = list(range(-3, 6))  # domain = {-3, -2, -1, 0, 1, 2, 3, 4, 5}\n",
        "\n",
        "    # ∀x (is_even(x) → is_positive(x))\n",
        "    statement1 = FORALL(domain, lambda x: IMPLIES(is_even(x), is_positive(x)))\n",
        "\n",
        "    # ∃x (is_even(x) ∧ ¬is_positive(x))\n",
        "    statement2 = EXISTS(domain, lambda x: AND(is_even(x), NOT(is_positive(x))))\n",
        "\n",
        "    print(\"Domain:\", domain)\n",
        "    print(\"Statement 1: ∀x (is_even(x) → is_positive(x)) =\", statement1)\n",
        "    print(\"Statement 2: ∃x (is_even(x) ∧ ¬is_positive(x)) =\", statement2)\n",
        "    print(\"code by Srinidhi B V\")\n"
      ]
    }
  ]
}