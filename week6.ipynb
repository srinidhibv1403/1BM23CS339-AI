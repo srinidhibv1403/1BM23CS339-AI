{
  "nbformat": 4,
  "nbformat_minor": 0,
  "metadata": {
    "colab": {
      "provenance": [],
      "authorship_tag": "ABX9TyNoA77QU0cyfXH4VozuvdrW",
      "include_colab_link": true
    },
    "kernelspec": {
      "name": "python3",
      "display_name": "Python 3"
    },
    "language_info": {
      "name": "python"
    }
  },
  "cells": [
    {
      "cell_type": "markdown",
      "metadata": {
        "id": "view-in-github",
        "colab_type": "text"
      },
      "source": [
        "<a href=\"https://colab.research.google.com/github/srinidhibv1403/1BM23CS339-AI/blob/main/week6.ipynb\" target=\"_parent\"><img src=\"https://colab.research.google.com/assets/colab-badge.svg\" alt=\"Open In Colab\"/></a>"
      ]
    },
    {
      "cell_type": "code",
      "execution_count": 5,
      "metadata": {
        "colab": {
          "base_uri": "https://localhost:8080/"
        },
        "id": "K6wnyd4t6Qff",
        "outputId": "766205a8-7780-475b-938e-4f86735890c1"
      },
      "outputs": [
        {
          "output_type": "stream",
          "name": "stdout",
          "text": [
            "Enter number of statements in KB: 2\n",
            "Enter statement 1 (use tuple format like ('implies','P','Q') or variable): ('Implies','P','Q')\n",
            "Enter statement 2 (use tuple format like ('implies','P','Q') or variable): 'P'\n",
            "Enter query (tuple or variable): 'Q'\n",
            "Does KB entail query? True\n",
            "srinidhi\n"
          ]
        }
      ],
      "source": [
        "def pl_true(expr, model):\n",
        "    if isinstance(expr, str):\n",
        "        return model[expr]\n",
        "    op = expr[0]\n",
        "    if op == 'not':\n",
        "        return not pl_true(expr[1], model)\n",
        "    elif op == 'and':\n",
        "        return pl_true(expr[1], model) and pl_true(expr[2], model)\n",
        "    elif op == 'or':\n",
        "        return pl_true(expr[1], model) or pl_true(expr[2], model)\n",
        "    elif op == 'implies':\n",
        "        return (not pl_true(expr[1], model)) or pl_true(expr[2], model)\n",
        "    elif op == 'iff':\n",
        "        return pl_true(expr[1], model) == pl_true(expr[2], model)\n",
        "\n",
        "def tt_entails(KB, query, symbols):\n",
        "    return tt_check_all(KB, query, symbols, {})\n",
        "\n",
        "def tt_check_all(KB, query, symbols, model):\n",
        "    if not symbols:\n",
        "        if all(pl_true(s, model) for s in KB):\n",
        "            return pl_true(query, model)\n",
        "        else:\n",
        "            return True\n",
        "    else:\n",
        "        P = symbols[0]\n",
        "        rest = symbols[1:]\n",
        "        model_true = model.copy()\n",
        "        model_true[P] = True\n",
        "        model_false = model.copy()\n",
        "        model_false[P] = False\n",
        "        return (tt_check_all(KB, query, rest, model_true) and\n",
        "                tt_check_all(KB, query, rest, model_false))\n",
        "\n",
        "if __name__ == \"__main__\":\n",
        "    n = int(input(\"Enter number of statements in KB: \"))\n",
        "    KB = []\n",
        "    symbols = set()\n",
        "    for i in range(n):\n",
        "        stmt = input(f\"Enter statement {i+1} (use tuple format like ('implies','P','Q') or variable): \")\n",
        "        stmt = eval(stmt)\n",
        "        KB.append(stmt)\n",
        "        if isinstance(stmt, str):\n",
        "            symbols.add(stmt)\n",
        "        else:\n",
        "            symbols.update([x for x in stmt if isinstance(x, str)])\n",
        "    query = eval(input(\"Enter query (tuple or variable): \"))\n",
        "    if isinstance(query, str):\n",
        "        symbols.add(query)\n",
        "    else:\n",
        "        symbols.update([x for x in query if isinstance(x, str)])\n",
        "    symbols = list(symbols)\n",
        "    result = tt_entails(KB, query, symbols)\n",
        "    print(\"Does KB entail query?\", result)\n",
        "print(\"srinidhi\")"
      ]
    }
  ]
}