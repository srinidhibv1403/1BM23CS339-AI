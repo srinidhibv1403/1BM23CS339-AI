{
  "nbformat": 4,
  "nbformat_minor": 0,
  "metadata": {
    "colab": {
      "provenance": [],
      "authorship_tag": "ABX9TyMvigc4xPrX+sc6mQGsA5OH",
      "include_colab_link": true
    },
    "kernelspec": {
      "name": "python3",
      "display_name": "Python 3"
    },
    "language_info": {
      "name": "python"
    }
  },
  "cells": [
    {
      "cell_type": "markdown",
      "metadata": {
        "id": "view-in-github",
        "colab_type": "text"
      },
      "source": [
        "<a href=\"https://colab.research.google.com/github/srinidhibv1403/1BM23CS339-AI/blob/main/WEEK%208.ipynb\" target=\"_parent\"><img src=\"https://colab.research.google.com/assets/colab-badge.svg\" alt=\"Open In Colab\"/></a>"
      ]
    },
    {
      "cell_type": "code",
      "execution_count": 3,
      "metadata": {
        "colab": {
          "base_uri": "https://localhost:8080/"
        },
        "id": "ZwBEmJCuGBLL",
        "outputId": "e5e90c85-9df3-4966-e86e-979a63d8181c"
      },
      "outputs": [
        {
          "output_type": "stream",
          "name": "stdout",
          "text": [
            "Step 1: Enemy(A, America) → Hostile(A)\n",
            "Step 2: Missile(T1) → Weapon(T1)\n",
            "Step 3: Missile(T1) ∧ Owns(A, T1) → Sells(Robert, T1, A)\n",
            "Step 4: American(Robert) ∧ Weapon(T1) ∧ Sells(Robert, T1, A) ∧ Hostile(A) → Criminal(Robert)\n",
            "\n",
            "✅ Final Facts:\n",
            "American(Robert)\n",
            "Missile(T1)\n",
            "Criminal(Robert)\n",
            "Hostile(A)\n",
            "Weapon(T1)\n",
            "Owns(A, T1)\n",
            "Enemy(A, America)\n",
            "Sells(Robert, T1, A)\n",
            "code by Srinidhi 1BM23CS339\n"
          ]
        }
      ],
      "source": [
        "# Forward Chaining Example: Prove Robert is a criminal\n",
        "\n",
        "# Known facts\n",
        "facts = {\n",
        "    \"American(Robert)\",\n",
        "    \"Enemy(A, America)\",\n",
        "    \"Missile(T1)\",\n",
        "    \"Owns(A, T1)\"\n",
        "}\n",
        "\n",
        "# Rules\n",
        "rules = [\n",
        "    (\"Enemy(x, America)\", \"Hostile(x)\"),\n",
        "    (\"Missile(x)\", \"Weapon(x)\"),\n",
        "    (\"Missile(x) ∧ Owns(A, x)\", \"Sells(Robert, x, A)\"),\n",
        "    (\"American(p) ∧ Weapon(q) ∧ Sells(p, q, r) ∧ Hostile(r)\", \"Criminal(p)\")\n",
        "]\n",
        "\n",
        "# Function to check and apply rules\n",
        "def apply_rules(facts):\n",
        "    new_facts = set()\n",
        "\n",
        "    # Step 1: Enemy(x, America) -> Hostile(x)\n",
        "    if \"Enemy(A, America)\" in facts and \"Hostile(A)\" not in facts:\n",
        "        print(\"Step 1: Enemy(A, America) → Hostile(A)\")\n",
        "        new_facts.add(\"Hostile(A)\")\n",
        "\n",
        "    # Step 2: Missile(x) -> Weapon(x)\n",
        "    if \"Missile(T1)\" in facts and \"Weapon(T1)\" not in facts:\n",
        "        print(\"Step 2: Missile(T1) → Weapon(T1)\")\n",
        "        new_facts.add(\"Weapon(T1)\")\n",
        "\n",
        "    # Step 3: Missile(x) ∧ Owns(A, x) -> Sells(Robert, x, A)\n",
        "    if \"Missile(T1)\" in facts and \"Owns(A, T1)\" in facts and \"Sells(Robert, T1, A)\" not in facts:\n",
        "        print(\"Step 3: Missile(T1) ∧ Owns(A, T1) → Sells(Robert, T1, A)\")\n",
        "        new_facts.add(\"Sells(Robert, T1, A)\")\n",
        "\n",
        "    # Step 4: American(p) ∧ Weapon(q) ∧ Sells(p, q, r) ∧ Hostile(r) -> Criminal(p)\n",
        "    if {\"American(Robert)\", \"Weapon(T1)\", \"Sells(Robert, T1, A)\", \"Hostile(A)\"} <= facts and \"Criminal(Robert)\" not in facts:\n",
        "        print(\"Step 4: American(Robert) ∧ Weapon(T1) ∧ Sells(Robert, T1, A) ∧ Hostile(A) → Criminal(Robert)\")\n",
        "        new_facts.add(\"Criminal(Robert)\")\n",
        "\n",
        "    return new_facts\n",
        "\n",
        "# Forward Chaining Loop\n",
        "step = 1\n",
        "while True:\n",
        "    new_facts = apply_rules(facts)\n",
        "    if not new_facts:\n",
        "        break\n",
        "    facts |= new_facts\n",
        "    step += 1\n",
        "\n",
        "print(\"\\n✅ Final Facts:\")\n",
        "for fact in facts:\n",
        "    print(fact)\n",
        "print(\"code by Srinidhi 1BM23CS339\")"
      ]
    }
  ]
}