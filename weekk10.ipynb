{
  "nbformat": 4,
  "nbformat_minor": 0,
  "metadata": {
    "colab": {
      "provenance": [],
      "authorship_tag": "ABX9TyPjM1Fvs8Ue/kXPjmf8xtbz",
      "include_colab_link": true
    },
    "kernelspec": {
      "name": "python3",
      "display_name": "Python 3"
    },
    "language_info": {
      "name": "python"
    }
  },
  "cells": [
    {
      "cell_type": "markdown",
      "metadata": {
        "id": "view-in-github",
        "colab_type": "text"
      },
      "source": [
        "<a href=\"https://colab.research.google.com/github/srinidhibv1403/1BM23CS339-AI/blob/main/lab10.ipynb\" target=\"_parent\"><img src=\"https://colab.research.google.com/assets/colab-badge.svg\" alt=\"Open In Colab\"/></a>"
      ]
    },
    {
      "cell_type": "code",
      "execution_count": 5,
      "metadata": {
        "colab": {
          "base_uri": "https://localhost:8080/"
        },
        "id": "NqQ8xkb_KqdY",
        "outputId": "c6bf089c-d8ce-49fc-aa3f-b797162df9c1"
      },
      "outputs": [
        {
          "output_type": "stream",
          "name": "stdout",
          "text": [
            "\n",
            "Alpha-Beta Pruning Tree Traversal:\n",
            "\n",
            "├── Visiting A [MAX Node]\n",
            "│   ├── Visiting B [MIN Node]\n",
            "│   │   ├── Visiting D [MAX Node]\n",
            "│   │   │   ├── Visiting L1 (Leaf, Value = 3)\n",
            "│   │   │   ├── Visiting L2 (Leaf, Value = 5)\n",
            "│   │   └── D returns 5 (MAX)\n",
            "│   │   ├── Visiting E [MAX Node]\n",
            "│   │   │   ├── Visiting L3 (Leaf, Value = 6)\n",
            "│   │   │   Pruned remaining children of E (alpha=6, beta=5)\n",
            "│   │   └── E returns 6 (MAX)\n",
            "│   └── B returns 5 (MIN)\n",
            "│   ├── Visiting C [MIN Node]\n",
            "│   │   ├── Visiting F [MAX Node]\n",
            "│   │   │   ├── Visiting L5 (Leaf, Value = 1)\n",
            "│   │   │   ├── Visiting L6 (Leaf, Value = 2)\n",
            "│   │   └── F returns 2 (MAX)\n",
            "│   │   Pruned remaining children of C (alpha=5, beta=2)\n",
            "│   └── C returns 2 (MIN)\n",
            "└── A returns 5 (MAX)\n",
            "\n",
            "FINAL RESULT\n",
            "Optimal Value of Root (A): 5\n",
            "Best Path from Root to Leaf: A → B → D → L2\n",
            "\n",
            "Pruned Branches:\n",
            " - L3 (and below)\n",
            " - F (and below)\n",
            "\n",
            "(code by Srinidhi B V)\n"
          ]
        }
      ],
      "source": [
        "class Node:\n",
        "    def __init__(self, name, children=None, value=None):\n",
        "        self.name = name\n",
        "        self.children = children or []\n",
        "        self.value = value\n",
        "\n",
        "\n",
        "def alpha_beta(node, depth, alpha, beta, maximizing, path, pruned):\n",
        "    indent = \"│   \" * depth  # Indentation for tree structure\n",
        "    print(f\"{indent}├── Visiting {node.name}\", end=\"\")\n",
        "\n",
        "    # Base case: leaf node\n",
        "    if not node.children:\n",
        "        print(f\" (Leaf, Value = {node.value})\")\n",
        "        return node.value, [node.name]\n",
        "\n",
        "    print(f\" [{'MAX' if maximizing else 'MIN'} Node]\")\n",
        "\n",
        "    if maximizing:\n",
        "        max_eval = float('-inf')\n",
        "        best_path = []\n",
        "        for child in node.children:\n",
        "            eval, child_path = alpha_beta(child, depth + 1, alpha, beta, False, path, pruned)\n",
        "            if eval > max_eval:\n",
        "                max_eval = eval\n",
        "                best_path = [node.name] + child_path\n",
        "            alpha = max(alpha, eval)\n",
        "            if beta <= alpha:\n",
        "                print(f\"{indent}│   Pruned remaining children of {node.name} (alpha={alpha}, beta={beta})\")\n",
        "                pruned.append(child.name + \" (and below)\")\n",
        "                break\n",
        "        print(f\"{indent}└── {node.name} returns {max_eval} (MAX)\")\n",
        "        return max_eval, best_path\n",
        "\n",
        "    else:\n",
        "        min_eval = float('inf')\n",
        "        best_path = []\n",
        "        for child in node.children:\n",
        "            eval, child_path = alpha_beta(child, depth + 1, alpha, beta, True, path, pruned)\n",
        "            if eval < min_eval:\n",
        "                min_eval = eval\n",
        "                best_path = [node.name] + child_path\n",
        "            beta = min(beta, eval)\n",
        "            if beta <= alpha:\n",
        "                print(f\"{indent}│   Pruned remaining children of {node.name} (alpha={alpha}, beta={beta})\")\n",
        "                pruned.append(child.name + \" (and below)\")\n",
        "                break\n",
        "        print(f\"{indent}└── {node.name} returns {min_eval} (MIN)\")\n",
        "        return min_eval, best_path\n",
        "\n",
        "\n",
        "# Constructing the tree\n",
        "D = Node(\"D\", [Node(\"L1\", value=3), Node(\"L2\", value=5)])\n",
        "E = Node(\"E\", [Node(\"L3\", value=6), Node(\"L4\", value=9)])\n",
        "F = Node(\"F\", [Node(\"L5\", value=1), Node(\"L6\", value=2)])\n",
        "G = Node(\"G\", [Node(\"L7\", value=0), Node(\"L8\", value=-1)])\n",
        "\n",
        "B = Node(\"B\", [D, E])\n",
        "C = Node(\"C\", [F, G])\n",
        "A = Node(\"A\", [B, C])  # Root node (MAX)\n",
        "\n",
        "\n",
        "# Run Alpha-Beta Search\n",
        "print(\"\\nAlpha-Beta Pruning Tree Traversal:\\n\")\n",
        "pruned = []\n",
        "value, best_path = alpha_beta(A, 0, float('-inf'), float('inf'), True, [], pruned)\n",
        "\n",
        "print(\"\\nFINAL RESULT\")\n",
        "print(\"Optimal Value of Root (A):\", value)\n",
        "print(\"Best Path from Root to Leaf:\", \" → \".join(best_path))\n",
        "print(\"\\nPruned Branches:\")\n",
        "if pruned:\n",
        "    for p in pruned:\n",
        "        print(\" -\", p)\n",
        "else:\n",
        "    print(\" - None\")\n",
        "print(\"\\n(code by Srinidhi B V)\")\n"
      ]
    }
  ]
}
