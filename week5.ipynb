{
  "nbformat": 4,
  "nbformat_minor": 0,
  "metadata": {
    "colab": {
      "provenance": [],
      "authorship_tag": "ABX9TyPH8L2NVPASx1ZTzPuoj5l6",
      "include_colab_link": true
    },
    "kernelspec": {
      "name": "python3",
      "display_name": "Python 3"
    },
    "language_info": {
      "name": "python"
    }
  },
  "cells": [
    {
      "cell_type": "markdown",
      "metadata": {
        "id": "view-in-github",
        "colab_type": "text"
      },
      "source": [
        "<a href=\"https://colab.research.google.com/github/srinidhibv1403/1BM23CS339-AI/blob/main/week5.ipynb\" target=\"_parent\"><img src=\"https://colab.research.google.com/assets/colab-badge.svg\" alt=\"Open In Colab\"/></a>"
      ]
    },
    {
      "cell_type": "code",
      "execution_count": 1,
      "metadata": {
        "colab": {
          "base_uri": "https://localhost:8080/"
        },
        "id": "UvyYblGR9OZ1",
        "outputId": "0359952e-4b4a-4d1f-d413-90b0b1f89e68"
      },
      "outputs": [
        {
          "output_type": "stream",
          "name": "stdout",
          "text": [
            "Enter number of queens (N): 4\n",
            "Solution state (row positions of queens per column): [0, 3, 1, 2]\n",
            "Final cost: 1\n",
            "Srinidhi B V\n"
          ]
        }
      ],
      "source": [
        "import random\n",
        "\n",
        "def calculate_cost(state):\n",
        "    \"\"\"Calculate number of attacking queen pairs.\"\"\"\n",
        "    cost = 0\n",
        "    n = len(state)\n",
        "    for i in range(n):\n",
        "        for j in range(i+1, n):\n",
        "            if state[i] == state[j] or abs(state[i] - state[j]) == abs(i - j):\n",
        "                cost += 1\n",
        "    return cost\n",
        "\n",
        "def generate_neighbors(state):\n",
        "    \"\"\"Generate all possible neighbors by moving one queen in its column.\"\"\"\n",
        "    neighbors = []\n",
        "    n = len(state)\n",
        "    for col in range(n):\n",
        "        for row in range(n):\n",
        "            if row != state[col]:  # move queen to a different row\n",
        "                new_state = state[:]\n",
        "                new_state[col] = row\n",
        "                neighbors.append(new_state)\n",
        "    return neighbors\n",
        "\n",
        "def hill_climbing(n):\n",
        "    # Step 1: Random initial state\n",
        "    state = [random.randint(0, n-1) for _ in range(n)]\n",
        "\n",
        "    while True:\n",
        "        current_cost = calculate_cost(state)\n",
        "        if current_cost == 0:\n",
        "            return state   # solution found\n",
        "\n",
        "        neighbors = generate_neighbors(state)\n",
        "\n",
        "        # find best neighbor\n",
        "        best_neighbor = state\n",
        "        best_cost = current_cost\n",
        "        for neighbor in neighbors:\n",
        "            cost = calculate_cost(neighbor)\n",
        "            if cost < best_cost:\n",
        "                best_cost = cost\n",
        "                best_neighbor = neighbor\n",
        "\n",
        "        # if no improvement, stop\n",
        "        if best_cost >= current_cost:\n",
        "            return state\n",
        "\n",
        "        state = best_neighbor\n",
        "\n",
        "\n",
        "# ---------------- Main -----------------\n",
        "if __name__ == \"__main__\":\n",
        "    N = int(input(\"Enter number of queens (N): \"))\n",
        "    solution = hill_climbing(N)\n",
        "    print(\"Solution state (row positions of queens per column):\", solution)\n",
        "    print(\"Final cost:\", calculate_cost(solution))\n",
        "print(\"Srinidhi B V\")"
      ]
    }
  ]
}